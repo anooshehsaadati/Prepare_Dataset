{
 "cells": [
  {
   "cell_type": "code",
   "execution_count": 19,
   "metadata": {},
   "outputs": [],
   "source": [
    "import os\n",
    "import cv2\n",
    "import numpy as np"
   ]
  },
  {
   "cell_type": "code",
   "execution_count": 20,
   "metadata": {},
   "outputs": [],
   "source": [
    "def get_limits(color):\n",
    "    c = np.uint8([[color]]) # here insert the bgr values which you want to convert to hsv\n",
    "    hsvC = cv2.cvtColor(c, cv2.COLOR_BGR2HSV)\n",
    "\n",
    "    lowerLimit = hsvC[0][0][0], 40, 0\n",
    "    upperLimit = hsvC[0][0][0], 255, 255\n",
    "\n",
    "    lowerLimit = np.array(lowerLimit, dtype=np.uint8)\n",
    "    upperLimit = np.array(upperLimit, dtype=np.uint8)\n",
    "\n",
    "    return lowerLimit, upperLimit"
   ]
  },
  {
   "cell_type": "code",
   "execution_count": 21,
   "metadata": {},
   "outputs": [],
   "source": [
    "def for_gray_hand():\n",
    "    lowerLimit = 0, 0, 5\n",
    "    upperLimit = 0, 0, 255\n",
    "\n",
    "    lowerLimit = np.array(lowerLimit, dtype=np.uint8)\n",
    "    upperLimit = np.array(upperLimit, dtype=np.uint8)\n",
    "\n",
    "    return lowerLimit, upperLimit"
   ]
  },
  {
   "cell_type": "code",
   "execution_count": 22,
   "metadata": {},
   "outputs": [],
   "source": [
    "def find_mask(mask, cls_num, output_dir, j):\n",
    "    H, W = mask.shape\n",
    "    contours, _ = cv2.findContours(mask, cv2.RETR_EXTERNAL, cv2.CHAIN_APPROX_SIMPLE)\n",
    "\n",
    "    polygon = []\n",
    "    # convert the contours to polygons\n",
    "    for cnt in contours:\n",
    "        if cv2.contourArea(cnt) > 200:\n",
    "            for point in cnt:\n",
    "                x, y = point[0]\n",
    "                polygon.append(x / W)\n",
    "                polygon.append(y / H)\n",
    "\n",
    "    # print the polygons\n",
    "    with open('{}.txt'.format(os.path.join(output_dir, j)[:-4]), 'a') as f:\n",
    "        for p_, p in enumerate(polygon):\n",
    "            if p_ == (len(polygon) - 1):\n",
    "                f.write('{}\\n'.format(p))\n",
    "            elif p_ == 0:\n",
    "                f.write(str(cls_num) + ' {} '.format(p))\n",
    "            else:\n",
    "                f.write('{} '.format(p))\n",
    "        f.close()"
   ]
  },
  {
   "cell_type": "code",
   "execution_count": 23,
   "metadata": {},
   "outputs": [
    {
     "name": "stdout",
     "output_type": "stream",
     "text": [
      "12084 0\n",
      "13716 1\n",
      "12356 2\n",
      "12946 3\n",
      "66332 4\n"
     ]
    }
   ],
   "source": [
    "# in BGR colorspace\n",
    "yellow = [0, 255, 255]\n",
    "red = [0, 0, 255]\n",
    "green = [0, 255, 0]\n",
    "blue = [255, 0, 0]\n",
    "gray = [216, 216, 216]\n",
    "\n",
    "# image_path = os.path.join('./', 'couple_bg_01.jpg')\n",
    "# load the binary mask and get its contours\n",
    "mask = cv2.imread('./frame_multiple_rgby_01_25.png')\n",
    "hsvMask = cv2.cvtColor(mask, cv2.COLOR_BGR2HSV)\n",
    "\n",
    "lowerLimit_yellow, upperLimit_yellow = get_limits(yellow)\n",
    "lowerLimit_red, upperLimit_red = get_limits(red)\n",
    "lowerLimit_green, upperLimit_green = get_limits(green)\n",
    "lowerLimit_blue, upperLimit_blue = get_limits(blue)\n",
    "lowerLimit_gray, upperLimit_gray = for_gray_hand()\n",
    "\n",
    "\n",
    "mask_yellow = cv2.inRange(hsvMask, lowerLimit_yellow, upperLimit_yellow)\n",
    "mask_red = cv2.inRange(hsvMask, lowerLimit_red, upperLimit_red)\n",
    "mask_green = cv2.inRange(hsvMask, lowerLimit_green, upperLimit_green)\n",
    "mask_blue = cv2.inRange(hsvMask, lowerLimit_blue, upperLimit_blue)\n",
    "mask_gray = cv2.inRange(hsvMask, lowerLimit_gray, upperLimit_gray)\n",
    "\n",
    "cv2.imshow('red', mask_red)\n",
    "cv2.imshow('blue', mask_blue)\n",
    "cv2.imshow('green', mask_green)\n",
    "cv2.imshow('yellow', mask_yellow)\n",
    "cv2.imshow('gray', mask_gray)\n",
    "cv2.waitKey(0)\n",
    "\n",
    "if np.sum(mask_red == 255) != 0:\n",
    "    print(np.sum(mask_red == 255), 0)\n",
    "    find_mask(mask_red, 0, './', 'label0.txt')\n",
    "\n",
    "if np.sum(mask_blue == 255) != 0:\n",
    "    print(np.sum(mask_blue == 255), 1)\n",
    "    find_mask(mask_blue, 1, './', 'label1.txt')\n",
    "\n",
    "if np.sum(mask_green == 255) != 0:\n",
    "    print(np.sum(mask_green == 255), 2)\n",
    "    find_mask(mask_green, 2, './', 'label2.txt')\n",
    "\n",
    "if np.sum(mask_yellow == 255) != 0:\n",
    "    print(np.sum(mask_yellow == 255), 3)\n",
    "    find_mask(mask_yellow, 3, './', 'label3.txt')\n",
    "\n",
    "if np.sum(mask_gray == 255) != 0:\n",
    "    print(np.sum(mask_gray == 255), 4)\n",
    "    find_mask(mask_gray, 4, './', 'label4.txt')\n",
    "\n",
    "cv2.destroyAllWindows()"
   ]
  }
 ],
 "metadata": {
  "kernelspec": {
   "display_name": "Python 3",
   "language": "python",
   "name": "python3"
  },
  "language_info": {
   "codemirror_mode": {
    "name": "ipython",
    "version": 3
   },
   "file_extension": ".py",
   "mimetype": "text/x-python",
   "name": "python",
   "nbconvert_exporter": "python",
   "pygments_lexer": "ipython3",
   "version": "3.10.11"
  }
 },
 "nbformat": 4,
 "nbformat_minor": 2
}
