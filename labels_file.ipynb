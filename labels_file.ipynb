{
 "cells": [
  {
   "cell_type": "code",
   "execution_count": 1,
   "metadata": {},
   "outputs": [],
   "source": [
    "import os\n",
    "import shutil\n",
    "import numpy as np"
   ]
  },
  {
   "cell_type": "code",
   "execution_count": 2,
   "metadata": {},
   "outputs": [],
   "source": [
    "default_dir = \"C:/anoosheh/CP/Master/Thesis/Dataset/Dataset_under_Delta_robot_without_light_0_degree/Prepare_for_yolov8_with_augmentation\"\n",
    "source_dir = default_dir + \"/output/images\"\n",
    "dest_dir1 = default_dir + \"/output/labels\"\n",
    "dest_dir0 = default_dir + \"/labels\""
   ]
  },
  {
   "cell_type": "markdown",
   "metadata": {},
   "source": [
    "### Test"
   ]
  },
  {
   "cell_type": "code",
   "execution_count": 3,
   "metadata": {},
   "outputs": [],
   "source": [
    "for f in os.listdir(source_dir+\"/test\"):\n",
    "    shutil.copy(dest_dir0 + '/'+ f[:-4] + '.txt', dest_dir1 + '/test/'+ f[:-4] + '.txt')"
   ]
  },
  {
   "cell_type": "markdown",
   "metadata": {},
   "source": [
    "### Train"
   ]
  },
  {
   "cell_type": "code",
   "execution_count": 4,
   "metadata": {},
   "outputs": [],
   "source": [
    "for f in os.listdir(source_dir+\"/train\"):\n",
    "    shutil.copy(dest_dir0 + '/'+ f[:-4] + '.txt', dest_dir1 + '/train/'+ f[:-4] + '.txt')"
   ]
  },
  {
   "cell_type": "markdown",
   "metadata": {},
   "source": [
    "### Val"
   ]
  },
  {
   "cell_type": "code",
   "execution_count": 5,
   "metadata": {},
   "outputs": [],
   "source": [
    "for f in os.listdir(source_dir+\"/val\"):\n",
    "    shutil.copy(dest_dir0 + '/'+ f[:-4] + '.txt', dest_dir1 + '/val/'+ f[:-4] + '.txt')"
   ]
  }
 ],
 "metadata": {
  "kernelspec": {
   "display_name": "Python 3",
   "language": "python",
   "name": "python3"
  },
  "language_info": {
   "codemirror_mode": {
    "name": "ipython",
    "version": 3
   },
   "file_extension": ".py",
   "mimetype": "text/x-python",
   "name": "python",
   "nbconvert_exporter": "python",
   "pygments_lexer": "ipython3",
   "version": "3.10.11"
  }
 },
 "nbformat": 4,
 "nbformat_minor": 2
}
