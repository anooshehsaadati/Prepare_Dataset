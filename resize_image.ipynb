{
 "cells": [
  {
   "cell_type": "code",
   "execution_count": 4,
   "metadata": {},
   "outputs": [],
   "source": [
    "from PIL import Image\n",
    "import os"
   ]
  },
  {
   "cell_type": "code",
   "execution_count": 15,
   "metadata": {},
   "outputs": [],
   "source": [
    "source_dir = \"C:/anoosheh/CP/Master/Thesis/Dataset/Dataset_under_Delta_robot_without_light_0_degree/Prepare_for_mask_rcnn_with_augmentation/output/val/mask\"\n",
    "dest_dir = \"C:/anoosheh/CP/Master/Thesis/Dataset/Dataset_under_Delta_robot_without_light_0_degree/Prepare_for_mask_rcnn_with_augmentation_and_resize/output/val/mask\""
   ]
  },
  {
   "cell_type": "code",
   "execution_count": 16,
   "metadata": {},
   "outputs": [],
   "source": [
    "for f in os.listdir(source_dir):\n",
    "    image = Image.open(source_dir + '/' + f)\n",
    "    image = image.resize((640, 360), Image.Resampling.LANCZOS)\n",
    "    quality_val = 70\n",
    "    image.save(dest_dir+ '/' + f, 'JPEG', quality=quality_val)"
   ]
  }
 ],
 "metadata": {
  "kernelspec": {
   "display_name": "Python 3",
   "language": "python",
   "name": "python3"
  },
  "language_info": {
   "codemirror_mode": {
    "name": "ipython",
    "version": 3
   },
   "file_extension": ".py",
   "mimetype": "text/x-python",
   "name": "python",
   "nbconvert_exporter": "python",
   "pygments_lexer": "ipython3",
   "version": "3.10.11"
  }
 },
 "nbformat": 4,
 "nbformat_minor": 2
}
